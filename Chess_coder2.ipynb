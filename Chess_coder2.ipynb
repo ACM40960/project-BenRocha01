{
 "cells": [
  {
   "cell_type": "code",
   "execution_count": 2,
   "metadata": {},
   "outputs": [],
   "source": [
    "from Project_code import *"
   ]
  },
  {
   "cell_type": "code",
   "execution_count": 99,
   "metadata": {},
   "outputs": [],
   "source": [
    "# to transform into IDABprunning\n",
    "def ID_AB_prunning(board,depth,param,Evaluator,alpha=-math.inf,beta=math.inf): #alpha-beta prunning   \n",
    "    if type(depth)!=int:\n",
    "        raise TypeError(\"AB_prunning parameter needs to be integer\")\n",
    "    best_move = 0     \n",
    "    poss_moves = list(board.legal_moves)\n",
    "    \n",
    "    if len(poss_moves)>0: #Has possible moves -> evals each Node/Leaf                                  \n",
    "        board_list = []\n",
    "        #getting the boards\n",
    "        for move in poss_moves:\n",
    "            t_board = chess.Board(board.fen())\n",
    "            t_board.push(move)\n",
    "            board_list +=[t_board]\n",
    "            \n",
    "        values = Evaluator.evaluate(board_list)   \n",
    "        \n",
    "        #sorting the boards\n",
    "        t_combined = list(zip(values,board_list,poss_moves))\n",
    "        combined = sorted(t_combined,key=lambda x:x[0])\n",
    "        sorted_boards = [m for _,m,_ in combined]\n",
    "        sorted_moves = [m for _, _,m in combined]\n",
    "        if depth>1: #Branch Nodes\n",
    "            for board in sorted_boards:\n",
    "                value = AB_prunning(board,depth-1,param,Evaluator,alpha,beta)[1]\n",
    "                if board.turn: #White turn\n",
    "                    if value > alpha:\n",
    "                        alpha = value\n",
    "                        best_move = sorted_moves[-1]\n",
    "                    if value > beta:\n",
    "                        break\n",
    "                    else: #Black turn\n",
    "                        value = min(values)\n",
    "                        if value < beta:\n",
    "                            beta = value\n",
    "                            best_move = sorted_moves[0]\n",
    "                        if value < alpha:\n",
    "                            break   \n",
    "                                        \n",
    "        elif depth == 1 : #Leaf Nodes\n",
    "            if board.turn: #White turn\n",
    "                value = values[-1]\n",
    "                best_move = sorted_moves[-1]\n",
    "            else: #Black turn\n",
    "                value = values[0]\n",
    "                best_move = sorted_moves[0]\n",
    "                \n",
    "\n",
    "    else: #No more moves\n",
    "        if board.is_game_over():\n",
    "            if board.is_checkmate():\n",
    "                value = 2*(board.turn*(-2)+1)\n",
    "                best_move = \"checkmate?\"\n",
    "            elif board.is_insufficient_material():\n",
    "                value = 0\n",
    "                best_move = \"insf material?\"\n",
    "            elif board.is_stalemate():\n",
    "                value = 0\n",
    "                best_move = \"stalemate?\"\n",
    "        else:\n",
    "            print(board.fen()) \n",
    "    return best_move,value"
   ]
  },
  {
   "cell_type": "code",
   "execution_count": 104,
   "metadata": {},
   "outputs": [],
   "source": [
    "models = loadModels()"
   ]
  },
  {
   "cell_type": "code",
   "execution_count": 184,
   "metadata": {},
   "outputs": [],
   "source": [
    "def flatten(nested_list, depth):\n",
    "    flat_list = []\n",
    "    coordinates = []\n",
    "    def helper(sublist, current_coords, level):\n",
    "        if level == depth - 1:  # If we're at the second-to-last level\n",
    "            for i, item in enumerate(sublist):\n",
    "                flat_list.append(item)\n",
    "                coordinates.append(current_coords + [i])\n",
    "        else:\n",
    "            for i, item in enumerate(sublist):\n",
    "                helper(item, current_coords + [i], level + 1)\n",
    "    \n",
    "    helper(nested_list, [], 0)\n",
    "    return flat_list,coordinates"
   ]
  },
  {
   "cell_type": "code",
   "execution_count": 136,
   "metadata": {},
   "outputs": [],
   "source": [
    "def minimax_NN(board,depth,param,Evaluator,master = True):\n",
    "    if type(depth)!=int:\n",
    "        raise TypeError(\"minimax parameter needs to be integer\")\n",
    "    best_move=0       \n",
    "    poss_moves = list(board.legal_moves)\n",
    "    list_boards = []\n",
    "    if len(poss_moves)>0: #Has possible moves -> evals each Node/Leaf                                  \n",
    "        for move in poss_moves:\n",
    "            t_board = chess.Board(board.fen())\n",
    "            t_board.push(move)\n",
    "            if depth > 1:\n",
    "                list_boards += minimax_NN(t_board,depth-1,param,Evaluator,False)[1]\n",
    "            else:\n",
    "                list_boards += [t_board,]\n",
    "        if master:\n",
    "            flat_list = flatten(list_boards)\n",
    "            boards = flat_list[0]\n",
    "            coords = flat_list[1]\n",
    "            values = Evaluator.evaluate(boards)\n",
    "            if board.turn:\n",
    "                turn = 0\n",
    "            else:\n",
    "                turn = 1\n",
    "            for d in range(depth-1,-1,-1):\n",
    "                \n",
    "                for i in values\n",
    "        \n",
    "           max\n",
    "            \n",
    "        \n",
    "    else: #No more moves\n",
    "        if board.is_game_over():\n",
    "            if board.is_checkmate():\n",
    "                value = 2*(board.turn*(-2)+1)\n",
    "                best_move = \"checkmate?\"\n",
    "            elif board.is_insufficient_material():\n",
    "                value = 0\n",
    "                best_move = \"insf material?\"\n",
    "            elif board.is_stalemate():\n",
    "                value = 0\n",
    "                best_move = \"stalemate?\"\n",
    "        else:\n",
    "            print(board.fen()) \n",
    "    return best_move,list_boards"
   ]
  },
  {
   "cell_type": "code",
   "execution_count": 143,
   "metadata": {},
   "outputs": [],
   "source": [
    "for i in range(10000):\n",
    "    Mevaluator.evaluate([board])"
   ]
  },
  {
   "cell_type": "code",
   "execution_count": 365,
   "metadata": {},
   "outputs": [
    {
     "name": "stdout",
     "output_type": "stream",
     "text": [
      "0.20714139938354492\n",
      "8.714836359024048\n"
     ]
    }
   ],
   "source": [
    "trait1 = TraitDirector.PieceValue(0)\n",
    "trait2 = TraitDirector.PawnAdvancement(0.2)\n",
    "traits = [trait1,trait2]\n",
    "Mevaluator = EvaluatorDirector.sqrt_dif(traits)\n",
    "Nevaluator = models[\"Single256_30\"]\n",
    "depth = 2\n",
    "\n",
    "t = time.time()\n",
    "minimax(board,depth,0,Mevaluator)\n",
    "print(time.time()-t)\n",
    "\n",
    "#t = time.time()\n",
    "#minimax(board,depth,0,Nevaluator)\n",
    "#print(time.time()-t)\n",
    "\n",
    "#t = time.time()\n",
    "#AB_prunning(board,depth,0,Mevaluator)\n",
    "#print(time.time()-t)\n",
    "\n",
    "#t = time.time()\n",
    "#AB_prunning(board,depth,0,Nevaluator)\n",
    "#print(time.time()-t)\n",
    "\n",
    "#t = time.time()\n",
    "#AB_prunning_NN(board,depth,0,Mevaluator)\n",
    "#print(time.time()-t)\n",
    "\n",
    "t = time.time()\n",
    "AB_prunning_NN(board,depth,0,Nevaluator)\n",
    "print(time.time()-t)\n",
    "\n",
    "#t = time.time()\n",
    "#ID_AB_prunning(board,depth,0,Mevaluator)\n",
    "#print(time.time()-t)\n",
    "\n",
    "#t = time.time()\n",
    "#ID_AB_prunning(board,depth,0,Nevaluator)\n",
    "#print(time.time()-t)"
   ]
  },
  {
   "cell_type": "code",
   "execution_count": 125,
   "metadata": {},
   "outputs": [
    {
     "data": {
      "text/plain": [
       "{'Single256_0': <Project_code.NNEvaluator at 0x1b3cbd0e520>,\n",
       " 'Single256_15': <Project_code.NNEvaluator at 0x1b3d4031dc0>,\n",
       " 'Single256_30': <Project_code.NNEvaluator at 0x1b3d32ca520>,\n",
       " 'Single256_45': <Project_code.NNEvaluator at 0x1b3d4152e80>,\n",
       " 'Single256_60': <Project_code.NNEvaluator at 0x1b3d415e220>,\n",
       " 'Single128_0': <Project_code.NNEvaluator at 0x1b3d4169ee0>,\n",
       " 'Single128_15': <Project_code.NNEvaluator at 0x1b3d5164b50>,\n",
       " 'Single128_30': <Project_code.NNEvaluator at 0x1b3d5172a30>,\n",
       " 'Single128_45': <Project_code.NNEvaluator at 0x1b3d518ac40>,\n",
       " 'Single128_60': <Project_code.NNEvaluator at 0x1b3d51a7250>,\n",
       " 'Single64_0': <Project_code.NNEvaluator at 0x1b3d51b7f70>,\n",
       " 'Single64_15': <Project_code.NNEvaluator at 0x1b3d51edd60>,\n",
       " 'Single64_30': <Project_code.NNEvaluator at 0x1b3d51d3ee0>,\n",
       " 'Single64_45': <Project_code.NNEvaluator at 0x1b3d3344d00>,\n",
       " 'Single64_60': <Project_code.NNEvaluator at 0x1b3d51fd460>,\n",
       " 'Single32_0': <Project_code.NNEvaluator at 0x1b3d51e3ca0>,\n",
       " 'Single32_15': <Project_code.NNEvaluator at 0x1b3d5224580>,\n",
       " 'Single32_30': <Project_code.NNEvaluator at 0x1b3d5244880>,\n",
       " 'Single32_45': <Project_code.NNEvaluator at 0x1b3d5261c70>,\n",
       " 'Single32_60': <Project_code.NNEvaluator at 0x1b3d528a0a0>,\n",
       " 'Pair256_0': <Project_code.NNEvaluator at 0x1b3d52a9580>,\n",
       " 'Pair256_15': <Project_code.NNEvaluator at 0x1b3d4061100>,\n",
       " 'Pair256_30': <Project_code.NNEvaluator at 0x1b3d5290d30>,\n",
       " 'Pair256_45': <Project_code.NNEvaluator at 0x1b3d51b3c10>,\n",
       " 'Pair256_60': <Project_code.NNEvaluator at 0x1b3d7b4c700>,\n",
       " 'Double128_0': <Project_code.NNEvaluator at 0x1b3d52c9160>,\n",
       " 'Double128_15': <Project_code.NNEvaluator at 0x1b3d52ee9d0>,\n",
       " 'Double128_30': <Project_code.NNEvaluator at 0x1b3d5318490>,\n",
       " 'Double128_45': <Project_code.NNEvaluator at 0x1b3d7bc7760>,\n",
       " 'Double128_60': <Project_code.NNEvaluator at 0x1b3d7b60d90>,\n",
       " 'Single256_Double256_128_0': <Project_code.NNEvaluator at 0x1b3d7bef8e0>,\n",
       " 'Single256_Double256_128_15': <Project_code.NNEvaluator at 0x1b3d7c22fa0>,\n",
       " 'Single256_Double256_128_30': <Project_code.NNEvaluator at 0x1b3d7c5a9a0>,\n",
       " 'Single256_Double256_128_45': <Project_code.NNEvaluator at 0x1b3d7c887f0>,\n",
       " 'Single256_Double256_128_60': <Project_code.NNEvaluator at 0x1b3d7c5a1c0>,\n",
       " 'Single128_Double128_0': <Project_code.NNEvaluator at 0x1b3d7cda9a0>,\n",
       " 'Single128_Double128_15': <Project_code.NNEvaluator at 0x1b3d7d05790>,\n",
       " 'Single128_Double128_30': <Project_code.NNEvaluator at 0x1b3d7d341c0>,\n",
       " 'Single128_Double128_45': <Project_code.NNEvaluator at 0x1b3d7d6e1c0>,\n",
       " 'Single128_Double128_60': <Project_code.NNEvaluator at 0x1b3d7d59790>}"
      ]
     },
     "execution_count": 125,
     "metadata": {},
     "output_type": "execute_result"
    }
   ],
   "source": [
    "models"
   ]
  },
  {
   "cell_type": "code",
   "execution_count": 123,
   "metadata": {},
   "outputs": [
    {
     "data": {
      "text/plain": [
       "array([[0., 0., 0., 0., 0., 0., 0., 0., 0., 0., 0., 0., 0., 0., 0., 0.,\n",
       "        0., 0., 0., 0., 0., 0., 0., 0., 0., 0., 0., 0., 0., 0., 0., 0.,\n",
       "        0., 0., 0., 0., 0., 0., 0., 0., 0., 0., 0., 0., 0., 0., 0., 0.,\n",
       "        0., 0., 0., 0., 0., 0., 0., 0., 0., 0., 0., 0., 0., 0., 0., 0.,\n",
       "        0., 0., 0., 0., 0., 0., 0., 0., 0., 0., 0., 0., 0., 0., 0., 0.,\n",
       "        0., 0., 0., 0., 0., 0., 0., 0., 0., 0., 0., 0., 0., 0., 0., 0.,\n",
       "        0., 0., 0., 0., 0., 0., 0., 0., 0., 0., 0., 0., 0., 0., 0., 0.,\n",
       "        0., 0., 0., 0., 0., 0., 0., 0., 0., 0., 0., 0., 0., 0., 0., 0.,\n",
       "        0., 0., 0., 0., 0., 0., 0., 0., 0., 0., 0., 0., 0., 0., 0., 0.,\n",
       "        0., 0., 0., 0., 0., 0., 0., 0., 0., 0., 0., 0., 0., 0., 0., 0.,\n",
       "        0., 0., 0., 0., 0., 0., 0., 0., 0., 0., 0., 0., 0., 0., 0., 0.,\n",
       "        0., 0., 0., 0., 0., 0., 0., 0., 0., 0., 0., 0., 0., 0., 0., 0.,\n",
       "        0., 0., 0., 0., 0., 0., 0., 0., 0., 0., 0., 0., 0., 0., 0., 0.,\n",
       "        0., 0., 0., 0., 0., 0., 0., 0., 0., 0., 0., 0., 0., 0., 0., 0.,\n",
       "        0., 0., 0., 0., 0., 0., 0., 0., 0., 0., 0., 0., 0., 0., 0., 0.,\n",
       "        0., 0., 0., 0., 0., 0., 0., 0., 0., 0., 0., 0., 0., 0., 0., 0.]],\n",
       "      dtype=float32)"
      ]
     },
     "execution_count": 123,
     "metadata": {},
     "output_type": "execute_result"
    }
   ],
   "source": [
    "Nevaluator.evaluate([board])"
   ]
  },
  {
   "cell_type": "code",
   "execution_count": 62,
   "metadata": {},
   "outputs": [],
   "source": [
    "class SearcherDirector:\n",
    "    @staticmethod\n",
    "    def minimax(depth):\n",
    "        descr = None\n",
    "        return Searcher(\"Minimax, depth \"+str(depth),descr,minimax,depth,None)\n",
    "    \n",
    "    @staticmethod\n",
    "    def AB_prunning(depth):\n",
    "        descr = None\n",
    "        return Searcher(\"Alpha-Beta prunning, depth \"+str(depth),descr,AB_prunning,depth,None)\n",
    "    \n",
    "    @staticmethod\n",
    "    def AB_prunning_NN(depth):\n",
    "        descr = None\n",
    "        return Searcher(\"Alpha-Beta prunning, depth \"+str(depth),descr,AB_prunning_NN,depth,None)\n",
    "    \n",
    "    @staticmethod\n",
    "    def ID_AB_prunning(depth):\n",
    "        descr = None\n",
    "        return Searcher(\"Iterative deepening Alpha-Beta prunning, depth \"+str(depth),descr,ID_AB_prunning,depth,None)\n",
    "    \n",
    "    @staticmethod\n",
    "    def MCTS(depth,param):\n",
    "        descr = None\n",
    "        return Searcher(\"Monte Carlo Tree Search, depth \"+str(depth)+\"  factor \"+str(param),descr,basic_MCTS,depth,param)\n",
    "    \n",
    "    @staticmethod\n",
    "    def weighted_MCTS(depth,param):\n",
    "        descr = None\n",
    "        return Searcher(\"Weighted Monte Carlo Tree Search, depth \"+str(depth)+\"  factor \"+str(param),descr,weighted_MCTS,depth,param)\n"
   ]
  },
  {
   "cell_type": "code",
   "execution_count": 124,
   "metadata": {},
   "outputs": [
    {
     "ename": "ValueError",
     "evalue": "0",
     "output_type": "error",
     "traceback": [
      "\u001b[1;31m---------------------------------------------------------------------------\u001b[0m",
      "\u001b[1;31mValueError\u001b[0m                                Traceback (most recent call last)",
      "Cell \u001b[1;32mIn[116], line 20\u001b[0m, in \u001b[0;36mAB_prunning\u001b[1;34m(board, depth, param, Evaluator, alpha, beta)\u001b[0m\n\u001b[0;32m     19\u001b[0m \u001b[38;5;28;01mtry\u001b[39;00m:\n\u001b[1;32m---> 20\u001b[0m     \u001b[38;5;28;01mif\u001b[39;00m \u001b[43mvalue\u001b[49m\u001b[43m \u001b[49m\u001b[38;5;241;43m>\u001b[39;49m\u001b[43m \u001b[49m\u001b[43malpha\u001b[49m:\n\u001b[0;32m     21\u001b[0m         alpha \u001b[38;5;241m=\u001b[39m value\n",
      "\u001b[1;31mValueError\u001b[0m: The truth value of an array with more than one element is ambiguous. Use a.any() or a.all()",
      "\nDuring handling of the above exception, another exception occurred:\n",
      "\u001b[1;31mValueError\u001b[0m                                Traceback (most recent call last)",
      "Cell \u001b[1;32mIn[124], line 13\u001b[0m\n\u001b[0;32m     11\u001b[0m MBot \u001b[38;5;241m=\u001b[39m BotPlayer(\u001b[38;5;124m\"\u001b[39m\u001b[38;5;124mManual\u001b[39m\u001b[38;5;124m\"\u001b[39m,evaluator,searcher)\n\u001b[0;32m     12\u001b[0m t \u001b[38;5;241m=\u001b[39m time\u001b[38;5;241m.\u001b[39mtime()\n\u001b[1;32m---> 13\u001b[0m \u001b[38;5;28mprint\u001b[39m(\u001b[43mNNBot\u001b[49m\u001b[38;5;241;43m.\u001b[39;49m\u001b[43mdoMove\u001b[49m\u001b[43m(\u001b[49m\u001b[43mboard\u001b[49m\u001b[43m)\u001b[49m)\n\u001b[0;32m     14\u001b[0m \u001b[38;5;28mprint\u001b[39m(time\u001b[38;5;241m.\u001b[39mtime()\u001b[38;5;241m-\u001b[39mt)\n",
      "File \u001b[1;32mc:\\Users\\berna\\Desktop\\faculdade\\Mestrado\\3Trimester\\ProjectMaths\\Project\\project-BenRocha01\\Project_code.py:175\u001b[0m, in \u001b[0;36mBotPlayer.doMove\u001b[1;34m(self, board)\u001b[0m\n\u001b[0;32m    174\u001b[0m \u001b[38;5;28;01mdef\u001b[39;00m \u001b[38;5;21mdoMove\u001b[39m(\u001b[38;5;28mself\u001b[39m,board):\n\u001b[1;32m--> 175\u001b[0m     move \u001b[38;5;241m=\u001b[39m \u001b[38;5;28;43mself\u001b[39;49m\u001b[38;5;241;43m.\u001b[39;49m\u001b[43mSearcher\u001b[49m\u001b[38;5;241;43m.\u001b[39;49m\u001b[43msearch\u001b[49m\u001b[43m(\u001b[49m\u001b[43mboard\u001b[49m\u001b[43m,\u001b[49m\u001b[38;5;28;43mself\u001b[39;49m\u001b[38;5;241;43m.\u001b[39;49m\u001b[43mEvaluator\u001b[49m\u001b[43m)\u001b[49m\n\u001b[0;32m    176\u001b[0m     \u001b[38;5;28;01mreturn\u001b[39;00m move\n",
      "File \u001b[1;32mc:\\Users\\berna\\Desktop\\faculdade\\Mestrado\\3Trimester\\ProjectMaths\\Project\\project-BenRocha01\\Project_code.py:201\u001b[0m, in \u001b[0;36mSearcher.search\u001b[1;34m(self, board, Evaluator)\u001b[0m\n\u001b[0;32m    200\u001b[0m \u001b[38;5;28;01mdef\u001b[39;00m \u001b[38;5;21msearch\u001b[39m(\u001b[38;5;28mself\u001b[39m,board,Evaluator):\n\u001b[1;32m--> 201\u001b[0m     \u001b[38;5;28;01mreturn\u001b[39;00m \u001b[38;5;28;43mself\u001b[39;49m\u001b[38;5;241;43m.\u001b[39;49m\u001b[43mfunct\u001b[49m\u001b[43m(\u001b[49m\u001b[43mboard\u001b[49m\u001b[43m,\u001b[49m\u001b[38;5;28;43mself\u001b[39;49m\u001b[38;5;241;43m.\u001b[39;49m\u001b[43mdepth\u001b[49m\u001b[43m,\u001b[49m\u001b[38;5;28;43mself\u001b[39;49m\u001b[38;5;241;43m.\u001b[39;49m\u001b[43mparam\u001b[49m\u001b[43m,\u001b[49m\u001b[43mEvaluator\u001b[49m\u001b[43m)\u001b[49m[\u001b[38;5;241m0\u001b[39m]\n",
      "Cell \u001b[1;32mIn[31], line 14\u001b[0m, in \u001b[0;36mAB_prunning\u001b[1;34m(board, depth, param, Evaluator, alpha, beta)\u001b[0m\n\u001b[0;32m     12\u001b[0m t_board\u001b[38;5;241m.\u001b[39mpush(move)\n\u001b[0;32m     13\u001b[0m \u001b[38;5;28;01mif\u001b[39;00m depth\u001b[38;5;241m>\u001b[39m\u001b[38;5;241m1\u001b[39m: \u001b[38;5;66;03m#Branch Nodes\u001b[39;00m\n\u001b[1;32m---> 14\u001b[0m     value \u001b[38;5;241m=\u001b[39m \u001b[43mAB_prunning\u001b[49m\u001b[43m(\u001b[49m\u001b[43mt_board\u001b[49m\u001b[43m,\u001b[49m\u001b[43mdepth\u001b[49m\u001b[38;5;241;43m-\u001b[39;49m\u001b[38;5;241;43m1\u001b[39;49m\u001b[43m,\u001b[49m\u001b[43mparam\u001b[49m\u001b[43m,\u001b[49m\u001b[43mEvaluator\u001b[49m\u001b[43m,\u001b[49m\u001b[43malpha\u001b[49m\u001b[43m,\u001b[49m\u001b[43mbeta\u001b[49m\u001b[43m)\u001b[49m[\u001b[38;5;241m1\u001b[39m]\n\u001b[0;32m     15\u001b[0m \u001b[38;5;28;01melif\u001b[39;00m depth \u001b[38;5;241m==\u001b[39m \u001b[38;5;241m1\u001b[39m : \u001b[38;5;66;03m#Leaf Nodes\u001b[39;00m\n\u001b[0;32m     16\u001b[0m     value \u001b[38;5;241m=\u001b[39m Evaluator\u001b[38;5;241m.\u001b[39mevaluate([t_board])[\u001b[38;5;241m0\u001b[39m]\n",
      "Cell \u001b[1;32mIn[116], line 14\u001b[0m, in \u001b[0;36mAB_prunning\u001b[1;34m(board, depth, param, Evaluator, alpha, beta)\u001b[0m\n\u001b[0;32m     12\u001b[0m t_board\u001b[38;5;241m.\u001b[39mpush(move)\n\u001b[0;32m     13\u001b[0m \u001b[38;5;28;01mif\u001b[39;00m depth\u001b[38;5;241m>\u001b[39m\u001b[38;5;241m0\u001b[39m: \u001b[38;5;66;03m#Branch Nodes\u001b[39;00m\n\u001b[1;32m---> 14\u001b[0m     value \u001b[38;5;241m=\u001b[39m \u001b[43mAB_prunning\u001b[49m\u001b[43m(\u001b[49m\u001b[43mt_board\u001b[49m\u001b[43m,\u001b[49m\u001b[43mdepth\u001b[49m\u001b[38;5;241;43m-\u001b[39;49m\u001b[38;5;241;43m1\u001b[39;49m\u001b[43m,\u001b[49m\u001b[43mparam\u001b[49m\u001b[43m,\u001b[49m\u001b[43mEvaluator\u001b[49m\u001b[43m,\u001b[49m\u001b[43malpha\u001b[49m\u001b[43m,\u001b[49m\u001b[43mbeta\u001b[49m\u001b[43m)\u001b[49m[\u001b[38;5;241m1\u001b[39m]\n\u001b[0;32m     15\u001b[0m \u001b[38;5;28;01melif\u001b[39;00m depth \u001b[38;5;241m==\u001b[39m \u001b[38;5;241m0\u001b[39m : \u001b[38;5;66;03m#Leaf Nodes\u001b[39;00m\n\u001b[0;32m     16\u001b[0m     board_list \u001b[38;5;241m=\u001b[39m [t_board]\n",
      "Cell \u001b[1;32mIn[116], line 14\u001b[0m, in \u001b[0;36mAB_prunning\u001b[1;34m(board, depth, param, Evaluator, alpha, beta)\u001b[0m\n\u001b[0;32m     12\u001b[0m t_board\u001b[38;5;241m.\u001b[39mpush(move)\n\u001b[0;32m     13\u001b[0m \u001b[38;5;28;01mif\u001b[39;00m depth\u001b[38;5;241m>\u001b[39m\u001b[38;5;241m0\u001b[39m: \u001b[38;5;66;03m#Branch Nodes\u001b[39;00m\n\u001b[1;32m---> 14\u001b[0m     value \u001b[38;5;241m=\u001b[39m \u001b[43mAB_prunning\u001b[49m\u001b[43m(\u001b[49m\u001b[43mt_board\u001b[49m\u001b[43m,\u001b[49m\u001b[43mdepth\u001b[49m\u001b[38;5;241;43m-\u001b[39;49m\u001b[38;5;241;43m1\u001b[39;49m\u001b[43m,\u001b[49m\u001b[43mparam\u001b[49m\u001b[43m,\u001b[49m\u001b[43mEvaluator\u001b[49m\u001b[43m,\u001b[49m\u001b[43malpha\u001b[49m\u001b[43m,\u001b[49m\u001b[43mbeta\u001b[49m\u001b[43m)\u001b[49m[\u001b[38;5;241m1\u001b[39m]\n\u001b[0;32m     15\u001b[0m \u001b[38;5;28;01melif\u001b[39;00m depth \u001b[38;5;241m==\u001b[39m \u001b[38;5;241m0\u001b[39m : \u001b[38;5;66;03m#Leaf Nodes\u001b[39;00m\n\u001b[0;32m     16\u001b[0m     board_list \u001b[38;5;241m=\u001b[39m [t_board]\n",
      "Cell \u001b[1;32mIn[116], line 24\u001b[0m, in \u001b[0;36mAB_prunning\u001b[1;34m(board, depth, param, Evaluator, alpha, beta)\u001b[0m\n\u001b[0;32m     22\u001b[0m         best_move \u001b[38;5;241m=\u001b[39m move\n\u001b[0;32m     23\u001b[0m \u001b[38;5;28;01mexcept\u001b[39;00m \u001b[38;5;167;01mValueError\u001b[39;00m:\n\u001b[1;32m---> 24\u001b[0m     \u001b[38;5;28;01mraise\u001b[39;00m \u001b[38;5;167;01mValueError\u001b[39;00m(depth)\n\u001b[0;32m     25\u001b[0m \u001b[38;5;28;01mif\u001b[39;00m value \u001b[38;5;241m>\u001b[39m beta:\n\u001b[0;32m     26\u001b[0m     \u001b[38;5;28;01mbreak\u001b[39;00m\n",
      "\u001b[1;31mValueError\u001b[0m: 0"
     ]
    }
   ],
   "source": [
    "#searcher = SearcherDirector.AB_prunning(2)\n",
    "NNBot = BotPlayer(\"NN\",models[\"Pair256_30\"],searcher)\n",
    "trait1 = TraitDirector.PieceValue(0)\n",
    "trait2 = TraitDirector.PawnAdvancement(0.2)\n",
    "traits = [trait1,trait2]\n",
    "evaluator = EvaluatorDirector.sqrt_dif(traits)\n",
    "#MBot = BotPlayer(\"Manual\",evaluator,searcher)\n",
    "#HP = HumanPlayer()\n",
    "\n",
    "searcher = SearcherDirector.AB_prunning_NN(3)\n",
    "MBot = BotPlayer(\"Manual\",evaluator,searcher)\n",
    "t = time.time()\n",
    "print(NNBot.doMove(board))\n",
    "print(time.time()-t)"
   ]
  },
  {
   "cell_type": "code",
   "execution_count": 3,
   "metadata": {},
   "outputs": [
    {
     "data": {
      "text/plain": [
       "[(1, [0, 0, 0]),\n",
       " (2, [0, 0, 1]),\n",
       " (3, [0, 1, 0]),\n",
       " (4, [0, 1, 1]),\n",
       " (5, [1, 0, 0]),\n",
       " (6, [1, 0, 1]),\n",
       " (7, [1, 1, 0]),\n",
       " (8, [1, 1, 1]),\n",
       " (9, [2, 0, 0]),\n",
       " (10, [2, 0, 1])]"
      ]
     },
     "execution_count": 3,
     "metadata": {},
     "output_type": "execute_result"
    }
   ],
   "source": [
    "nested_list = [[[1, 2], [3, 4]], [[5, 6], [7, 8]], [[9, 10]]]\n",
    "depth = 3  # Known depth\n",
    "def flatten_with_coordinates_known_depth(nested_list, depth):\n",
    "    flat_list = []\n",
    "    def helper(sublist, current_coords, level):\n",
    "        if level == depth - 1:  # If we're at the second-to-last level\n",
    "            for i, item in enumerate(sublist):\n",
    "                flat_list.append((item, current_coords + [i]))\n",
    "        else:\n",
    "            for i, item in enumerate(sublist):\n",
    "                helper(item, current_coords + [i], level + 1)\n",
    "    \n",
    "    helper(nested_list, [], 0)\n",
    "    return flat_list\n",
    "\n",
    "# Use the function\n",
    "flattened_with_coords = flatten_with_coordinates_known_depth(nested_list, depth)\n",
    "flattened_with_coords"
   ]
  },
  {
   "cell_type": "code",
   "execution_count": 4,
   "metadata": {},
   "outputs": [
    {
     "data": {
      "text/plain": [
       "([1, 2, 3, 4, 5, 6, 7, 8, 9, 10],\n",
       " [[0, 0, 0, 0],\n",
       "  [0, 0, 1],\n",
       "  [0, 1, 0],\n",
       "  [0, 1, 1],\n",
       "  [1, 0, 0],\n",
       "  [1, 0, 1],\n",
       "  [1, 1, 0],\n",
       "  [1, 1, 1],\n",
       "  [2, 0, 0],\n",
       "  [2, 0, 1]])"
      ]
     },
     "execution_count": 4,
     "metadata": {},
     "output_type": "execute_result"
    }
   ],
   "source": [
    "nested_list = [[[[1], 2], [3, 4]], [[5, 6], [7, 8]], [[9, 10]]]\n",
    "depth = 3  # Known depth\n",
    "def flatten(nested_list,layer=0,coordinates = []):\n",
    "    flat_list = []\n",
    "    coor_list = []\n",
    "    for n,item in enumerate(nested_list):\n",
    "        if layer>len(coordinates)-1:\n",
    "            coordinates += [n,]\n",
    "        else:\n",
    "            coordinates[layer] = n\n",
    "        if type(item) == list:\n",
    "            item = flatten(item,layer+1,coordinates.copy())\n",
    "            flat_list.extend(item[0])\n",
    "            coor_list.extend(item[1])\n",
    "        else:\n",
    "            flat_list.append(item)\n",
    "            coor_list += [coordinates.copy(),]\n",
    "    return flat_list,coor_list\n",
    "\n",
    "# Use the function\n",
    "flattened_with_coords = flatten(nested_list)\n",
    "flattened_with_coords\n"
   ]
  },
  {
   "cell_type": "code",
   "execution_count": null,
   "metadata": {},
   "outputs": [
    {
     "ename": "",
     "evalue": "",
     "output_type": "error",
     "traceback": [
      "\u001b[1;31mThe Kernel crashed while executing code in the current cell or a previous cell. \n",
      "\u001b[1;31mPlease review the code in the cell(s) to identify a possible cause of the failure. \n",
      "\u001b[1;31mClick <a href='https://aka.ms/vscodeJupyterKernelCrash'>here</a> for more info. \n",
      "\u001b[1;31mView Jupyter <a href='command:jupyter.viewOutput'>log</a> for further details."
     ]
    }
   ],
   "source": [
    "flat = flattened_with_coords\n",
    "new_nested = nested_list\n",
    "new_vals = [3,4,5,6,7,8,9,0,1,2]\n",
    "n=0\n",
    "def insert_into_nested(nested):\n",
    "    global n\n",
    "    n_list = []\n",
    "    for item in nested:\n",
    "        if type(item) == list:\n",
    "            n_list += [insert_into_nested(item),]\n",
    "        else:\n",
    "            n_list += [new_vals[n],]\n",
    "            n +=1\n",
    "    return n_list\n",
    "\n",
    "new_nested = insert_into_nested(nested_list)\n",
    "new_nested\n",
    "\n",
    "# Use the function\n"
   ]
  },
  {
   "cell_type": "code",
   "execution_count": 360,
   "metadata": {},
   "outputs": [
    {
     "name": "stdout",
     "output_type": "stream",
     "text": [
      "[0, 0, 0, 0]\n",
      "[0, 0, 1]\n",
      "[0, 1, 0]\n",
      "[0, 1, 1]\n",
      "[1, 0, 0]\n",
      "[1, 0, 1]\n",
      "[1, 1, 0]\n",
      "[1, 1, 1]\n",
      "[2, 0, 0]\n",
      "[2, 0, 1]\n"
     ]
    }
   ],
   "source": [
    "flat = flattened_with_coords\n",
    "new_vals = [3,4,5,6,7,8,9,0,1,2]\n",
    "\n",
    "        "
   ]
  },
  {
   "cell_type": "code",
   "execution_count": 366,
   "metadata": {},
   "outputs": [
    {
     "data": {
      "text/plain": [
       "[[0], 1, 2, 3, 4, 5]"
      ]
     },
     "execution_count": 366,
     "metadata": {},
     "output_type": "execute_result"
    }
   ],
   "source": [
    "a = [[0],1,2,3,4,5]\n",
    "b = a[0]\n",
    "c= b[0]\n",
    "c=5\n",
    "a"
   ]
  },
  {
   "cell_type": "code",
   "execution_count": 211,
   "metadata": {},
   "outputs": [
    {
     "data": {
      "text/plain": [
       "2"
      ]
     },
     "execution_count": 211,
     "metadata": {},
     "output_type": "execute_result"
    }
   ],
   "source": [
    "def get_branch_values(flattened_with_coords,depth):\n",
    "    coor = \n",
    "    for i in range(len(flattened_with_coords[0])):\n",
    "        "
   ]
  }
 ],
 "metadata": {
  "kernelspec": {
   "display_name": "Python 3",
   "language": "python",
   "name": "python3"
  },
  "language_info": {
   "codemirror_mode": {
    "name": "ipython",
    "version": 3
   },
   "file_extension": ".py",
   "mimetype": "text/x-python",
   "name": "python",
   "nbconvert_exporter": "python",
   "pygments_lexer": "ipython3",
   "version": "3.8.10"
  }
 },
 "nbformat": 4,
 "nbformat_minor": 2
}
