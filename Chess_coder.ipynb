{
 "cells": [
  {
   "cell_type": "code",
   "execution_count": 1,
   "metadata": {},
   "outputs": [
    {
     "name": "stdout",
     "output_type": "stream",
     "text": [
      "V 0.2.10\n"
     ]
    }
   ],
   "source": [
    "from Project_code import *\n",
    "\n",
    "board = chess.Board()\n",
    "\n",
    "pre_mate = chess.Board('rnbqkbnr/pppp1ppp/8/4p3/6P1/5P2/PPPPP2P/RNBQKBNR b KQkq - 0 2')\n",
    "\n",
    "version()"
   ]
  },
  {
   "cell_type": "code",
   "execution_count": null,
   "metadata": {},
   "outputs": [],
   "source": [
    "games = loadFromRepository()\n"
   ]
  },
  {
   "cell_type": "code",
   "execution_count": 36,
   "metadata": {},
   "outputs": [],
   "source": [
    "def gamesToLibrary(o_games,minply = 0):\n",
    "\n",
    "    games = copy.deepcopy(o_games)\n",
    "    library = []\n",
    "    for game in games:\n",
    "        if game[0]==\"1-0\" or game[0] == 1:\n",
    "            result = 1\n",
    "        elif game[0]==\"1/2-1/2\" or game[0] == 0:\n",
    "            result = 0\n",
    "        else:\n",
    "            result = -1\n",
    "        while game[1].ply() > minply:\n",
    "            \n",
    "            library += [[copy.deepcopy(game[1]),result],]\n",
    "            game[1].pop()\n",
    "    return library"
   ]
  },
  {
   "cell_type": "code",
   "execution_count": 41,
   "metadata": {},
   "outputs": [],
   "source": [
    "def gamesToLibrary2(o_games,minply = 0):\n",
    "\n",
    "    games = copy.deepcopy(o_games)\n",
    "    library = []\n",
    "    for game in games:\n",
    "        if game[0]==\"1-0\" or game[0] == 1:\n",
    "            result = 1\n",
    "        elif game[0]==\"1/2-1/2\" or game[0] == 0:\n",
    "            result = 0\n",
    "        else:\n",
    "            result = -1\n",
    "        while game[1].ply() > minply:\n",
    "            \n",
    "            library += [[chess.Board(game[1].fen()),result],]\n",
    "            game[1].pop()\n",
    "    return library"
   ]
  },
  {
   "cell_type": "code",
   "execution_count": 38,
   "metadata": {},
   "outputs": [
    {
     "ename": "KeyboardInterrupt",
     "evalue": "",
     "output_type": "error",
     "traceback": [
      "\u001b[1;31m---------------------------------------------------------------------------\u001b[0m",
      "\u001b[1;31mKeyboardInterrupt\u001b[0m                         Traceback (most recent call last)",
      "Cell \u001b[1;32mIn[38], line 1\u001b[0m\n\u001b[1;32m----> 1\u001b[0m library \u001b[38;5;241m=\u001b[39m \u001b[43mgamesToLibrary\u001b[49m\u001b[43m(\u001b[49m\u001b[43mgames\u001b[49m\u001b[43m)\u001b[49m\n",
      "Cell \u001b[1;32mIn[36], line 14\u001b[0m, in \u001b[0;36mgamesToLibrary\u001b[1;34m(o_games, minply)\u001b[0m\n\u001b[0;32m     11\u001b[0m         result \u001b[38;5;241m=\u001b[39m \u001b[38;5;241m-\u001b[39m\u001b[38;5;241m1\u001b[39m\n\u001b[0;32m     12\u001b[0m     \u001b[38;5;28;01mwhile\u001b[39;00m game[\u001b[38;5;241m1\u001b[39m]\u001b[38;5;241m.\u001b[39mply() \u001b[38;5;241m>\u001b[39m minply:\n\u001b[1;32m---> 14\u001b[0m         library \u001b[38;5;241m+\u001b[39m\u001b[38;5;241m=\u001b[39m [[\u001b[43mcopy\u001b[49m\u001b[38;5;241;43m.\u001b[39;49m\u001b[43mdeepcopy\u001b[49m\u001b[43m(\u001b[49m\u001b[43mgame\u001b[49m\u001b[43m[\u001b[49m\u001b[38;5;241;43m1\u001b[39;49m\u001b[43m]\u001b[49m\u001b[43m)\u001b[49m,result],]\n\u001b[0;32m     15\u001b[0m         game[\u001b[38;5;241m1\u001b[39m]\u001b[38;5;241m.\u001b[39mpop()\n\u001b[0;32m     16\u001b[0m \u001b[38;5;28;01mreturn\u001b[39;00m library\n",
      "File \u001b[1;32mc:\\Users\\berna\\AppData\\Local\\Programs\\Python\\Python38\\lib\\copy.py:153\u001b[0m, in \u001b[0;36mdeepcopy\u001b[1;34m(x, memo, _nil)\u001b[0m\n\u001b[0;32m    151\u001b[0m copier \u001b[38;5;241m=\u001b[39m \u001b[38;5;28mgetattr\u001b[39m(x, \u001b[38;5;124m\"\u001b[39m\u001b[38;5;124m__deepcopy__\u001b[39m\u001b[38;5;124m\"\u001b[39m, \u001b[38;5;28;01mNone\u001b[39;00m)\n\u001b[0;32m    152\u001b[0m \u001b[38;5;28;01mif\u001b[39;00m copier \u001b[38;5;129;01mis\u001b[39;00m \u001b[38;5;129;01mnot\u001b[39;00m \u001b[38;5;28;01mNone\u001b[39;00m:\n\u001b[1;32m--> 153\u001b[0m     y \u001b[38;5;241m=\u001b[39m \u001b[43mcopier\u001b[49m\u001b[43m(\u001b[49m\u001b[43mmemo\u001b[49m\u001b[43m)\u001b[49m\n\u001b[0;32m    154\u001b[0m \u001b[38;5;28;01melse\u001b[39;00m:\n\u001b[0;32m    155\u001b[0m     reductor \u001b[38;5;241m=\u001b[39m dispatch_table\u001b[38;5;241m.\u001b[39mget(\u001b[38;5;28mcls\u001b[39m)\n",
      "File \u001b[1;32mc:\\Users\\berna\\AppData\\Local\\Programs\\Python\\Python38\\lib\\site-packages\\chess\\__init__.py:1403\u001b[0m, in \u001b[0;36mBaseBoard.__deepcopy__\u001b[1;34m(self, memo)\u001b[0m\n\u001b[0;32m   1402\u001b[0m \u001b[38;5;28;01mdef\u001b[39;00m \u001b[38;5;21m__deepcopy__\u001b[39m(\u001b[38;5;28mself\u001b[39m: BaseBoardT, memo: Dict[\u001b[38;5;28mint\u001b[39m, \u001b[38;5;28mobject\u001b[39m]) \u001b[38;5;241m-\u001b[39m\u001b[38;5;241m>\u001b[39m BaseBoardT:\n\u001b[1;32m-> 1403\u001b[0m     board \u001b[38;5;241m=\u001b[39m \u001b[38;5;28;43mself\u001b[39;49m\u001b[38;5;241;43m.\u001b[39;49m\u001b[43mcopy\u001b[49m\u001b[43m(\u001b[49m\u001b[43m)\u001b[49m\n\u001b[0;32m   1404\u001b[0m     memo[\u001b[38;5;28mid\u001b[39m(\u001b[38;5;28mself\u001b[39m)] \u001b[38;5;241m=\u001b[39m board\n\u001b[0;32m   1405\u001b[0m     \u001b[38;5;28;01mreturn\u001b[39;00m board\n",
      "File \u001b[1;32mc:\\Users\\berna\\AppData\\Local\\Programs\\Python\\Python38\\lib\\site-packages\\chess\\__init__.py:3757\u001b[0m, in \u001b[0;36mBoard.copy\u001b[1;34m(self, stack)\u001b[0m\n\u001b[0;32m   3755\u001b[0m \u001b[38;5;28;01mif\u001b[39;00m stack:\n\u001b[0;32m   3756\u001b[0m     stack \u001b[38;5;241m=\u001b[39m \u001b[38;5;28mlen\u001b[39m(\u001b[38;5;28mself\u001b[39m\u001b[38;5;241m.\u001b[39mmove_stack) \u001b[38;5;28;01mif\u001b[39;00m stack \u001b[38;5;129;01mis\u001b[39;00m \u001b[38;5;28;01mTrue\u001b[39;00m \u001b[38;5;28;01melse\u001b[39;00m stack\n\u001b[1;32m-> 3757\u001b[0m     board\u001b[38;5;241m.\u001b[39mmove_stack \u001b[38;5;241m=\u001b[39m [copy\u001b[38;5;241m.\u001b[39mcopy(move) \u001b[38;5;28;01mfor\u001b[39;00m move \u001b[38;5;129;01min\u001b[39;00m \u001b[38;5;28mself\u001b[39m\u001b[38;5;241m.\u001b[39mmove_stack[\u001b[38;5;241m-\u001b[39mstack:]]\n\u001b[0;32m   3758\u001b[0m     board\u001b[38;5;241m.\u001b[39m_stack \u001b[38;5;241m=\u001b[39m \u001b[38;5;28mself\u001b[39m\u001b[38;5;241m.\u001b[39m_stack[\u001b[38;5;241m-\u001b[39mstack:]\n\u001b[0;32m   3760\u001b[0m \u001b[38;5;28;01mreturn\u001b[39;00m board\n",
      "File \u001b[1;32mc:\\Users\\berna\\AppData\\Local\\Programs\\Python\\Python38\\lib\\site-packages\\chess\\__init__.py:3757\u001b[0m, in \u001b[0;36m<listcomp>\u001b[1;34m(.0)\u001b[0m\n\u001b[0;32m   3755\u001b[0m \u001b[38;5;28;01mif\u001b[39;00m stack:\n\u001b[0;32m   3756\u001b[0m     stack \u001b[38;5;241m=\u001b[39m \u001b[38;5;28mlen\u001b[39m(\u001b[38;5;28mself\u001b[39m\u001b[38;5;241m.\u001b[39mmove_stack) \u001b[38;5;28;01mif\u001b[39;00m stack \u001b[38;5;129;01mis\u001b[39;00m \u001b[38;5;28;01mTrue\u001b[39;00m \u001b[38;5;28;01melse\u001b[39;00m stack\n\u001b[1;32m-> 3757\u001b[0m     board\u001b[38;5;241m.\u001b[39mmove_stack \u001b[38;5;241m=\u001b[39m [\u001b[43mcopy\u001b[49m\u001b[38;5;241;43m.\u001b[39;49m\u001b[43mcopy\u001b[49m\u001b[43m(\u001b[49m\u001b[43mmove\u001b[49m\u001b[43m)\u001b[49m \u001b[38;5;28;01mfor\u001b[39;00m move \u001b[38;5;129;01min\u001b[39;00m \u001b[38;5;28mself\u001b[39m\u001b[38;5;241m.\u001b[39mmove_stack[\u001b[38;5;241m-\u001b[39mstack:]]\n\u001b[0;32m   3758\u001b[0m     board\u001b[38;5;241m.\u001b[39m_stack \u001b[38;5;241m=\u001b[39m \u001b[38;5;28mself\u001b[39m\u001b[38;5;241m.\u001b[39m_stack[\u001b[38;5;241m-\u001b[39mstack:]\n\u001b[0;32m   3760\u001b[0m \u001b[38;5;28;01mreturn\u001b[39;00m board\n",
      "File \u001b[1;32mc:\\Users\\berna\\AppData\\Local\\Programs\\Python\\Python38\\lib\\copy.py:100\u001b[0m, in \u001b[0;36mcopy\u001b[1;34m(x)\u001b[0m\n\u001b[0;32m     97\u001b[0m         \u001b[38;5;28;01melse\u001b[39;00m:\n\u001b[0;32m     98\u001b[0m             \u001b[38;5;28;01mraise\u001b[39;00m Error(\u001b[38;5;124m\"\u001b[39m\u001b[38;5;124mun(shallow)copyable object of type \u001b[39m\u001b[38;5;132;01m%s\u001b[39;00m\u001b[38;5;124m\"\u001b[39m \u001b[38;5;241m%\u001b[39m \u001b[38;5;28mcls\u001b[39m)\n\u001b[1;32m--> 100\u001b[0m \u001b[38;5;28;01mif\u001b[39;00m \u001b[38;5;28;43misinstance\u001b[39;49m(rv, \u001b[38;5;28mstr\u001b[39m):\n\u001b[0;32m    101\u001b[0m     \u001b[38;5;28;01mreturn\u001b[39;00m x\n\u001b[0;32m    102\u001b[0m \u001b[38;5;28;01mreturn\u001b[39;00m _reconstruct(x, \u001b[38;5;28;01mNone\u001b[39;00m, \u001b[38;5;241m*\u001b[39mrv)\n",
      "\u001b[1;31mKeyboardInterrupt\u001b[0m: "
     ]
    }
   ],
   "source": [
    "library = gamesToLibrary(games)"
   ]
  },
  {
   "cell_type": "code",
   "execution_count": 42,
   "metadata": {},
   "outputs": [],
   "source": [
    "library = gamesToLibrary2(games)"
   ]
  },
  {
   "cell_type": "code",
   "execution_count": 56,
   "metadata": {},
   "outputs": [],
   "source": [
    "array = np.array(library).T"
   ]
  },
  {
   "cell_type": "code",
   "execution_count": 3,
   "metadata": {},
   "outputs": [
    {
     "ename": "TypeError",
     "evalue": "list indices must be integers or slices, not list",
     "output_type": "error",
     "traceback": [
      "\u001b[1;31m---------------------------------------------------------------------------\u001b[0m",
      "\u001b[1;31mTypeError\u001b[0m                                 Traceback (most recent call last)",
      "Cell \u001b[1;32mIn[3], line 3\u001b[0m\n\u001b[0;32m      1\u001b[0m training_indexes \u001b[38;5;241m=\u001b[39m \u001b[38;5;28mlist\u001b[39m(\u001b[38;5;28mrange\u001b[39m(\u001b[38;5;241m1\u001b[39m,\u001b[38;5;28mlen\u001b[39m(library[\u001b[38;5;241m0\u001b[39m])))\n\u001b[0;32m      2\u001b[0m np\u001b[38;5;241m.\u001b[39mrandom\u001b[38;5;241m.\u001b[39mshuffle(training_indexes)\n\u001b[1;32m----> 3\u001b[0m train_data \u001b[38;5;241m=\u001b[39m [\u001b[43mlibrary\u001b[49m\u001b[43m[\u001b[49m\u001b[38;5;241;43m0\u001b[39;49m\u001b[43m]\u001b[49m\u001b[43m[\u001b[49m\u001b[43mtraining_indexes\u001b[49m\u001b[43m]\u001b[49m,library[\u001b[38;5;241m1\u001b[39m][training_indexes]]\n\u001b[0;32m      4\u001b[0m train_pos \u001b[38;5;241m=\u001b[39m[]\n\u001b[0;32m      5\u001b[0m \u001b[38;5;28;01mfor\u001b[39;00m n,i \u001b[38;5;129;01min\u001b[39;00m \u001b[38;5;28menumerate\u001b[39m(train_data[\u001b[38;5;241m0\u001b[39m]):\n",
      "\u001b[1;31mTypeError\u001b[0m: list indices must be integers or slices, not list"
     ]
    }
   ],
   "source": [
    "training_indexes = list(range(1,len(library[0])))\n",
    "np.random.shuffle(training_indexes)\n",
    "train_data = [library[0][training_indexes],library[1][training_indexes]]\n",
    "train_pos =[]\n",
    "for n,i in enumerate(train_data[0]):\n",
    "    train_pos += [position_bitboard.getValues(i),]\n",
    "train_lab = train_data[1]"
   ]
  },
  {
   "cell_type": "code",
   "execution_count": null,
   "metadata": {},
   "outputs": [],
   "source": [
    "train_pos = np.array(train_pos, dtype=np.float32)\n",
    "train_lab = np.array(train_lab, dtype=np.float32)"
   ]
  },
  {
   "cell_type": "code",
   "execution_count": null,
   "metadata": {},
   "outputs": [],
   "source": [
    "train_pos= train_pos[0:100]\n",
    "train_lab=train_lab[0:100]"
   ]
  },
  {
   "cell_type": "code",
   "execution_count": 71,
   "metadata": {},
   "outputs": [],
   "source": [
    "class Model(tf.keras.models.Sequential):\n",
    "    def setName(self,name):\n",
    "        self.name = name\n",
    "        \n",
    "    def getName(self):\n",
    "        return self.name\n",
    "    \n",
    "    def save(self):\n",
    "        if hasattr(self, 'name'):\n",
    "            super().save(self.name + \".keras\", *args, **kwargs)\n",
    "        else:\n",
    "            raise ValueError(\"Model name has not been set. Use setName() method to set the model name.\")\n"
   ]
  },
  {
   "cell_type": "code",
   "execution_count": 73,
   "metadata": {},
   "outputs": [],
   "source": [
    "first_model = tf.keras.models.Sequential([\n",
    "    tf.keras.layers.Flatten(input_shape=(12,8,8),name=\"flatten\"),\n",
    "    tf.keras.layers.Dense(100,activation=\"relu\",name=\"layer2\"),\n",
    "    tf.keras.layers.Dense(1,activation=\"tanh\",name=\"output\")\n",
    "])\n",
    "\n",
    "first_model.compile(optimizer='adam',\n",
    "              loss=\"mean_squared_error\",\n",
    "              metrics=['accuracy'])\n"
   ]
  },
  {
   "cell_type": "code",
   "execution_count": 66,
   "metadata": {},
   "outputs": [],
   "source": [
    "first_model.save()"
   ]
  },
  {
   "cell_type": "code",
   "execution_count": 6,
   "metadata": {},
   "outputs": [
    {
     "ename": "NameError",
     "evalue": "name 'train_pos' is not defined",
     "output_type": "error",
     "traceback": [
      "\u001b[1;31m---------------------------------------------------------------------------\u001b[0m",
      "\u001b[1;31mNameError\u001b[0m                                 Traceback (most recent call last)",
      "Cell \u001b[1;32mIn[6], line 1\u001b[0m\n\u001b[1;32m----> 1\u001b[0m model\u001b[38;5;241m.\u001b[39mfit(x \u001b[38;5;241m=\u001b[39m \u001b[43mtrain_pos\u001b[49m,\n\u001b[0;32m      2\u001b[0m           y \u001b[38;5;241m=\u001b[39m train_lab)\n",
      "\u001b[1;31mNameError\u001b[0m: name 'train_pos' is not defined"
     ]
    }
   ],
   "source": [
    "first_model.fit(x = train_pos,\n",
    "          y = train_lab)"
   ]
  },
  {
   "cell_type": "code",
   "execution_count": 10,
   "metadata": {},
   "outputs": [
    {
     "name": "stdout",
     "output_type": "stream",
     "text": [
      "1/1 [==============================] - 0s 168ms/step\n"
     ]
    },
    {
     "data": {
      "text/plain": [
       "array([[0.32714742]], dtype=float32)"
      ]
     },
     "execution_count": 10,
     "metadata": {},
     "output_type": "execute_result"
    }
   ],
   "source": [
    "model.predict(np.array([position_bitboard.getValues(board)]))"
   ]
  },
  {
   "cell_type": "code",
   "execution_count": 50,
   "metadata": {},
   "outputs": [
    {
     "name": "stdout",
     "output_type": "stream",
     "text": [
      "Model: \"sequential_2\"\n",
      "_________________________________________________________________\n",
      " Layer (type)                Output Shape              Param #   \n",
      "=================================================================\n",
      " layer1 (Dense)              (None, 768)               590592    \n",
      "                                                                 \n",
      " layer2 (Dense)              (None, 100)               76900     \n",
      "                                                                 \n",
      " output (Dense)              (None, 1)                 101       \n",
      "                                                                 \n",
      "=================================================================\n",
      "Total params: 667593 (2.55 MB)\n",
      "Trainable params: 667593 (2.55 MB)\n",
      "Non-trainable params: 0 (0.00 Byte)\n",
      "_________________________________________________________________\n"
     ]
    }
   ],
   "source": [
    "model.summary()"
   ]
  },
  {
   "cell_type": "code",
   "execution_count": 2,
   "metadata": {},
   "outputs": [
    {
     "data": {
      "text/plain": [
       "1718674123.1001225"
      ]
     },
     "execution_count": 2,
     "metadata": {},
     "output_type": "execute_result"
    }
   ],
   "source": [
    "time.time()"
   ]
  },
  {
   "cell_type": "code",
   "execution_count": 55,
   "metadata": {},
   "outputs": [],
   "source": [
    "def ID_alphabeta_branch(board,n,eval,alpha=-2,beta=2): # iterative deepening alpha-beta prunning        \n",
    "    def id_search(board,n,eval,alpha,beta):\n",
    "        return classified_move_list #[([move1.1,move1.2],value1),([move2.1,move2.2],value2)]\n",
    "    \n",
    "    \n",
    "    poss_moves = list(board.legal_moves)\n",
    "    evals = []\n",
    "    if len(poss_moves)>0: #Has possible moves -> evals each Node/Leaf    \n",
    "        if n==1: #Leafs          \n",
    "            if board.turn:\n",
    "                value = -5\n",
    "                for move in poss_moves:\n",
    "                    t_board = chess.Board(board.fen())\n",
    "                    t_board.push(move)\n",
    "                    t_value = eval(t_board)\n",
    "                    if t_value > value:\n",
    "                        value = t_value\n",
    "                        best_move = move\n",
    "                    elif t_value == value:\n",
    "                        r = random.random()\n",
    "                        if r > 0.5:\n",
    "                            value = t_value\n",
    "                            best_move = move\n",
    "            else:\n",
    "                value = 5\n",
    "                for move in poss_moves:\n",
    "                    t_board = chess.Board(board.fen())\n",
    "                    t_board.push(move)\n",
    "                    t_value = eval(t_board)\n",
    "                    if t_value < value:\n",
    "                        value = t_value\n",
    "                        best_move = move\n",
    "                    elif t_value == value:\n",
    "                        r = random.random()\n",
    "                        if r > 0.5:\n",
    "                            value = t_value\n",
    "                            best_move = move\n",
    "                                          \n",
    "        else: #Branch Nodes\n",
    "            if board.turn:\n",
    "                value = -5\n",
    "                for move in poss_moves:\n",
    "                    t_board = chess.Board(board.fen())\n",
    "                    t_board.push(move)\n",
    "                    t_value = ab_branch(t_board,n-1,eval,alpha,beta)[1]\n",
    "                    if t_value > value:\n",
    "                        value = t_value\n",
    "                        best_move = move\n",
    "                    elif t_value == value:\n",
    "                        r = random.random()\n",
    "                        if r > 0.1:\n",
    "                            value = t_value\n",
    "                            best_move = move\n",
    "                    if value > beta:\n",
    "                        break\n",
    "                    alpha = max(alpha,value)\n",
    "                    \n",
    "                         \n",
    "            else:\n",
    "                value = 5\n",
    "                for move in poss_moves:\n",
    "                    t_board = chess.Board(board.fen())\n",
    "                    t_board.push(move)\n",
    "                    t_value = ab_branch(t_board,n-1,eval,alpha,beta)[1]\n",
    "                    if t_value < value:\n",
    "                        value = t_value\n",
    "                        best_move = move\n",
    "                    elif t_value == value:\n",
    "                        r = random.random()\n",
    "                        if r > 0.1:\n",
    "                            value = t_value\n",
    "                            best_move = move\n",
    "                    if value < alpha:\n",
    "                        break\n",
    "                    beta = min(beta,value) \n",
    "                    \n",
    "                    \n",
    "    else:\n",
    "        if board.is_game_over():\n",
    "            if board.is_checkmate():\n",
    "                value = 2*(board.turn*(-2)+1)\n",
    "                best_move = \"checkmate?\"\n",
    "            elif board.is_insufficient_material():\n",
    "                value = 0\n",
    "                best_move = \"insf material?\"\n",
    "            elif board.is_stalemate():\n",
    "                value = 0\n",
    "                best_move = \"stalemate?\"\n",
    "        else:\n",
    "            print(board.fen())\n",
    "            \n",
    "            \n",
    "    return best_move,value"
   ]
  },
  {
   "cell_type": "code",
   "execution_count": null,
   "metadata": {},
   "outputs": [],
   "source": [
    "\n",
    "    "
   ]
  }
 ],
 "metadata": {
  "kernelspec": {
   "display_name": "Python 3",
   "language": "python",
   "name": "python3"
  },
  "language_info": {
   "codemirror_mode": {
    "name": "ipython",
    "version": 3
   },
   "file_extension": ".py",
   "mimetype": "text/x-python",
   "name": "python",
   "nbconvert_exporter": "python",
   "pygments_lexer": "ipython3",
   "version": "3.8.10"
  }
 },
 "nbformat": 4,
 "nbformat_minor": 2
}
